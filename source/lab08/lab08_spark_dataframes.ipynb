{
 "cells": [
  {
   "cell_type": "code",
   "execution_count": 1,
   "metadata": {
    "collapsed": false,
    "deletable": true,
    "editable": true
   },
   "outputs": [
    {
     "name": "stdout",
     "output_type": "stream",
     "text": [
      "Welcome to\n",
      "      ____              __\n",
      "     / __/__  ___ _____/ /__\n",
      "    _\\ \\/ _ \\/ _ `/ __/  '_/\n",
      "   /__ / .__/\\_,_/_/ /_/\\_\\   version 2.1.1\n",
      "      /_/\n",
      "\n",
      "Using Python version 2.7.6 (default, Oct 26 2016 20:30:19)\n",
      "SparkSession available as 'spark'.\n"
     ]
    }
   ],
   "source": [
    "import os\n",
    "import sys\n",
    "os.environ[\"PYSPARK_SUBMIT_ARGS\"]='--packages com.databricks:spark-csv_2.10:1.2.0 pyspark-shell'\n",
    "spark_home = os.environ.get('SPARK_HOME', None)\n",
    "sys.path.insert(0, spark_home + \"/python\")\n",
    "execfile(os.path.join(spark_home, 'python/pyspark/shell.py'))"
   ]
  },
  {
   "cell_type": "code",
   "execution_count": 2,
   "metadata": {
    "collapsed": true,
    "deletable": true,
    "editable": true
   },
   "outputs": [],
   "source": [
    "path_data = '/user/alexey.astafiev/movielens/u.data'\n",
    "path_item = '/user/alexey.astafiev/movielens/u.item'\n",
    "my_user_id = 727"
   ]
  },
  {
   "cell_type": "code",
   "execution_count": 3,
   "metadata": {
    "collapsed": false,
    "deletable": true,
    "editable": true
   },
   "outputs": [],
   "source": [
    "from pyspark.sql.types import *\n",
    "from pyspark.sql.types import Row\n",
    "from pyspark.sql import functions as F\n",
    "import pyspark.ml.linalg as linalg"
   ]
  },
  {
   "cell_type": "code",
   "execution_count": 4,
   "metadata": {
    "collapsed": false,
    "deletable": true,
    "editable": true
   },
   "outputs": [],
   "source": [
    "d_fields = [StructField('user_id', LongType(), True),\n",
    "          StructField('movie_id', LongType(), True),\n",
    "          StructField('rating', LongType(), True),\n",
    "          StructField('timestamp', LongType(), True)]"
   ]
  },
  {
   "cell_type": "code",
   "execution_count": 5,
   "metadata": {
    "collapsed": true,
    "deletable": true,
    "editable": true
   },
   "outputs": [],
   "source": [
    "u_fields = [StructField('movie_id', LongType(), True),\n",
    "            StructField('movie_title', StringType(), True),\n",
    "            StructField('releas_date', StringType(), True),\n",
    "            StructField('video_release_date', StringType(), True),\n",
    "            StructField('IMDb_URL', StringType(), True),\n",
    "            StructField('unknown', LongType(), True),\n",
    "            StructField('Action', LongType(), True),\n",
    "            StructField('Adventure', LongType(), True),\n",
    "            StructField('Animation', LongType(), True),\n",
    "            StructField('Children', LongType(), True),\n",
    "            StructField('Comedy', LongType(), True),\n",
    "            StructField('Crime', LongType(), True),\n",
    "            StructField('Documentary', LongType(), True),\n",
    "            StructField('Drama', LongType(), True),\n",
    "            StructField('Fantasy', LongType(), True),\n",
    "            StructField('Film_Noir', LongType(), True),\n",
    "            StructField('Horror', LongType(), True),\n",
    "            StructField('Musical', LongType(), True),\n",
    "            StructField('Mystery', LongType(), True),\n",
    "            StructField('Romance', LongType(), True),\n",
    "            StructField('Sci_Fi', LongType(), True),\n",
    "            StructField('Thriller', LongType(), True),\n",
    "            StructField('War', LongType(), True),\n",
    "            StructField('Western', LongType(), True)\n",
    "           ]"
   ]
  },
  {
   "cell_type": "code",
   "execution_count": 6,
   "metadata": {
    "collapsed": false,
    "deletable": true,
    "editable": true
   },
   "outputs": [],
   "source": [
    "schema_d = StructType(d_fields)\n",
    "schema_u = StructType(u_fields)"
   ]
  },
  {
   "cell_type": "code",
   "execution_count": 7,
   "metadata": {
    "collapsed": true,
    "deletable": true,
    "editable": true
   },
   "outputs": [],
   "source": [
    "u_data = spark.read.csv(path_data, sep='\\t', schema=schema_d)\n",
    "u_item = spark.read.csv(path_item, sep='|', schema=schema_u)"
   ]
  },
  {
   "cell_type": "code",
   "execution_count": null,
   "metadata": {
    "collapsed": false,
    "deletable": true,
    "editable": true,
    "scrolled": true
   },
   "outputs": [],
   "source": [
    "u_data.printSchema()"
   ]
  },
  {
   "cell_type": "code",
   "execution_count": null,
   "metadata": {
    "collapsed": false,
    "deletable": true,
    "editable": true
   },
   "outputs": [],
   "source": [
    "u_item.printSchema()"
   ]
  },
  {
   "cell_type": "code",
   "execution_count": null,
   "metadata": {
    "collapsed": false,
    "deletable": true,
    "editable": true
   },
   "outputs": [],
   "source": [
    "# 1\n",
    "user_count = u_data.select('user_id').groupBy(u_data.user_id).count().select(F.count('user_id')).first()[0]\n",
    "item_count = u_item.select('movie_id').count()"
   ]
  },
  {
   "cell_type": "code",
   "execution_count": null,
   "metadata": {
    "collapsed": false,
    "deletable": true,
    "editable": true
   },
   "outputs": [
    {
     "data": {
      "text/plain": [
       "(943, 1682)"
      ]
     },
     "execution_count": 106,
     "metadata": {},
     "output_type": "execute_result"
    }
   ],
   "source": [
    "user_count, item_count"
   ]
  },
  {
   "cell_type": "code",
   "execution_count": null,
   "metadata": {
    "collapsed": true,
    "deletable": true,
    "editable": true
   },
   "outputs": [],
   "source": [
    "rating_count = u_data.count()"
   ]
  },
  {
   "cell_type": "code",
   "execution_count": null,
   "metadata": {
    "collapsed": false,
    "deletable": true,
    "editable": true
   },
   "outputs": [],
   "source": [
    "# 2\n",
    "average_user_ratings = rating_count / float(user_count)"
   ]
  },
  {
   "cell_type": "code",
   "execution_count": null,
   "metadata": {
    "collapsed": false,
    "deletable": true,
    "editable": true
   },
   "outputs": [
    {
     "data": {
      "text/plain": [
       "106.04453870625663"
      ]
     },
     "execution_count": 109,
     "metadata": {},
     "output_type": "execute_result"
    }
   ],
   "source": [
    "average_user_ratings"
   ]
  },
  {
   "cell_type": "code",
   "execution_count": null,
   "metadata": {
    "collapsed": true,
    "deletable": true,
    "editable": true
   },
   "outputs": [],
   "source": [
    "# 3\n",
    "average_film_ratings = rating_count / float(item_count)"
   ]
  },
  {
   "cell_type": "code",
   "execution_count": null,
   "metadata": {
    "collapsed": false,
    "deletable": true,
    "editable": true
   },
   "outputs": [
    {
     "data": {
      "text/plain": [
       "59.45303210463734"
      ]
     },
     "execution_count": 111,
     "metadata": {},
     "output_type": "execute_result"
    }
   ],
   "source": [
    "average_film_ratings"
   ]
  },
  {
   "cell_type": "code",
   "execution_count": null,
   "metadata": {
    "collapsed": true,
    "deletable": true,
    "editable": true
   },
   "outputs": [],
   "source": [
    "# 4\n",
    "completeness = rating_count / float(user_count * item_count)"
   ]
  },
  {
   "cell_type": "code",
   "execution_count": null,
   "metadata": {
    "collapsed": false,
    "deletable": true,
    "editable": true
   },
   "outputs": [
    {
     "data": {
      "text/plain": [
       "0.06304669364224531"
      ]
     },
     "execution_count": 113,
     "metadata": {},
     "output_type": "execute_result"
    }
   ],
   "source": [
    "completeness"
   ]
  },
  {
   "cell_type": "code",
   "execution_count": null,
   "metadata": {
    "collapsed": false,
    "deletable": true,
    "editable": true
   },
   "outputs": [],
   "source": [
    "# Part 2, 1\n",
    "respective_means = u_data.select('user_id', 'rating').groupby(u_data.user_id) \\\n",
    "                    .agg(F.sum(u_data.rating).alias('sum_rating'), F.count(u_data.rating).alias('count_rating')) \\\n",
    "                    .withColumn('mean_rating', F.col('sum_rating') / F.col('count_rating'))"
   ]
  },
  {
   "cell_type": "code",
   "execution_count": null,
   "metadata": {
    "collapsed": false,
    "deletable": true,
    "editable": true
   },
   "outputs": [],
   "source": [
    "# Part 2, 2\n",
    "\n",
    "users_data = u_data.join(respective_means.select('user_id', 'mean_rating'), on='user_id', how='inner') \\\n",
    "    .withColumn('diff_r_mr', F.col('rating') - F.col('mean_rating'))"
   ]
  },
  {
   "cell_type": "code",
   "execution_count": 54,
   "metadata": {
    "collapsed": false,
    "deletable": true,
    "editable": true
   },
   "outputs": [
    {
     "ename": "NameError",
     "evalue": "name 'users_data' is not defined",
     "output_type": "error",
     "traceback": [
      "\u001b[0;31m\u001b[0m",
      "\u001b[0;31mNameError\u001b[0mTraceback (most recent call last)",
      "\u001b[0;32m<ipython-input-54-cc5e9ff278cb>\u001b[0m in \u001b[0;36m<module>\u001b[0;34m()\u001b[0m\n\u001b[0;32m----> 1\u001b[0;31m \u001b[0mmy_user_data\u001b[0m \u001b[0;34m=\u001b[0m \u001b[0musers_data\u001b[0m\u001b[0;34m.\u001b[0m\u001b[0mwhere\u001b[0m\u001b[0;34m(\u001b[0m\u001b[0musers_data\u001b[0m\u001b[0;34m.\u001b[0m\u001b[0muser_id\u001b[0m \u001b[0;34m==\u001b[0m \u001b[0mmy_user_id\u001b[0m\u001b[0;34m)\u001b[0m\u001b[0;34m.\u001b[0m\u001b[0mcache\u001b[0m\u001b[0;34m(\u001b[0m\u001b[0;34m)\u001b[0m\u001b[0;34m\u001b[0m\u001b[0m\n\u001b[0m",
      "\u001b[0;31mNameError\u001b[0m: name 'users_data' is not defined"
     ]
    }
   ],
   "source": [
    "my_user_data = users_data.where(users_data.user_id == my_user_id).cache()"
   ]
  },
  {
   "cell_type": "code",
   "execution_count": null,
   "metadata": {
    "collapsed": true,
    "deletable": true,
    "editable": true
   },
   "outputs": [],
   "source": [
    "users_data = users_data.where(users_data.user_id <> my_user_id).cache()"
   ]
  },
  {
   "cell_type": "code",
   "execution_count": null,
   "metadata": {
    "collapsed": false,
    "deletable": true,
    "editable": true
   },
   "outputs": [],
   "source": [
    "dd = my_user_data.select(my_user_data.user_id.alias('user_id'), 'movie_id', my_user_data.diff_r_mr.alias('my_r_mr')) \\\n",
    "    .join(users_data.select(users_data.user_id.alias('u_user_id'), 'movie_id', users_data.diff_r_mr.alias('u_r_mr')), on='movie_id', how='inner') \\\n",
    "    .withColumn('mult', F.col('my_r_mr')*F.col('u_r_mr')).cache()"
   ]
  },
  {
   "cell_type": "code",
   "execution_count": null,
   "metadata": {
    "collapsed": false,
    "deletable": true,
    "editable": true
   },
   "outputs": [],
   "source": [
    "PearsonSim = dd.select('u_user_id','mult', 'my_r_mr', 'u_r_mr').groupby('u_user_id') \\\n",
    "    .agg(F.sum('mult').alias('sum1'), F.sqrt(F.sum(F.col('my_r_mr')**2)).alias('sqrt1'), F.sqrt(F.sum(F.col('u_r_mr')**2)).alias('sqrt2')) \\\n",
    "    .withColumn('PearsonSim', F.col('sum1') / (F.col('sqrt1')*F.col('sqrt2')))"
   ]
  },
  {
   "cell_type": "code",
   "execution_count": null,
   "metadata": {
    "collapsed": true,
    "deletable": true,
    "editable": true
   },
   "outputs": [],
   "source": [
    "# Part 2, (3, 4)\n",
    "\n",
    "dd_count_movie_id = dd.select('u_user_id', 'movie_id') \\\n",
    "    .groupBy(dd.u_user_id) \\\n",
    "    .agg(F.count(dd.movie_id).alias('count_movie_id'))"
   ]
  },
  {
   "cell_type": "code",
   "execution_count": null,
   "metadata": {
    "collapsed": false,
    "deletable": true,
    "editable": true
   },
   "outputs": [],
   "source": [
    "PearsonSim_coeff = PearsonSim.join(dd_count_movie_id, on='u_user_id') \\\n",
    "    .withColumn('coeff',F.when(F.col('count_movie_id') / 50 <= 1, F.col('count_movie_id') / 50).otherwise(1)) \\\n",
    "    .withColumn('PearsonSim_coeff', F.col('coeff') * F.col('PearsonSim')) \\\n",
    "    .select('u_user_id', 'PearsonSim', 'coeff', 'PearsonSim_coeff')"
   ]
  },
  {
   "cell_type": "code",
   "execution_count": null,
   "metadata": {
    "collapsed": false,
    "deletable": true,
    "editable": true
   },
   "outputs": [],
   "source": [
    "pearson_neighbours = PearsonSim_coeff.select('u_user_id', 'PearsonSim_coeff') \\\n",
    "                      .orderBy(PearsonSim_coeff.PearsonSim_coeff.desc(), PearsonSim_coeff.u_user_id.asc()).limit(30)"
   ]
  },
  {
   "cell_type": "code",
   "execution_count": null,
   "metadata": {
    "collapsed": false,
    "deletable": true,
    "editable": true
   },
   "outputs": [],
   "source": [
    "# Part 2, 5\n",
    "\n",
    "ra = respective_means.select('mean_rating').where(respective_means.user_id == my_user_id).first()[0]"
   ]
  },
  {
   "cell_type": "code",
   "execution_count": null,
   "metadata": {
    "collapsed": false,
    "deletable": true,
    "editable": true
   },
   "outputs": [
    {
     "data": {
      "text/plain": [
       "3.0372670807453415"
      ]
     },
     "execution_count": 124,
     "metadata": {},
     "output_type": "execute_result"
    }
   ],
   "source": [
    "ra"
   ]
  },
  {
   "cell_type": "code",
   "execution_count": null,
   "metadata": {
    "collapsed": false,
    "deletable": true,
    "editable": true
   },
   "outputs": [],
   "source": [
    "no_my_user_rating = u_item.select('movie_id', 'movie_title') \\\n",
    "    .join(my_user_data, on='movie_id', how='left') \\\n",
    "    .select('movie_id', 'movie_title').where(F.col('rating').isNull())"
   ]
  },
  {
   "cell_type": "code",
   "execution_count": null,
   "metadata": {
    "collapsed": false,
    "deletable": true,
    "editable": true
   },
   "outputs": [],
   "source": [
    "dd = no_my_user_rating.join(users_data.select('user_id', 'movie_id', 'diff_r_mr'), on='movie_id',how='left') \\\n",
    "        .join(pearson_neighbours, F.col('user_id') == F.col('u_user_id'),how='left') \\\n",
    "        .select('movie_id','user_id', 'diff_r_mr', 'PearsonSim_coeff') \\\n",
    "        .where('PearsonSim_coeff is not null').cache()"
   ]
  },
  {
   "cell_type": "code",
   "execution_count": null,
   "metadata": {
    "collapsed": false,
    "deletable": true,
    "editable": true
   },
   "outputs": [],
   "source": [
    "pearson_top10 = dd.withColumn('numerator', dd.diff_r_mr*dd.PearsonSim_coeff) \\\n",
    "    .select('movie_id', 'PearsonSim_coeff', 'numerator') \\\n",
    "    .groupBy('movie_id') \\\n",
    "    .agg(F.sum(F.abs(F.col('PearsonSim_coeff'))).alias('sum_abs_PearsonSim_coeff'), F.sum(F.col('numerator')).alias('sum_numerator')) \\\n",
    "    .where('sum_abs_PearsonSim_coeff != 0.0') \\\n",
    "    .withColumn('r_ai', ra + F.col('sum_numerator') / F.col('sum_abs_PearsonSim_coeff')) \\\n",
    "    .orderBy(F.col('r_ai').desc()).limit(10)"
   ]
  },
  {
   "cell_type": "code",
   "execution_count": null,
   "metadata": {
    "collapsed": true,
    "deletable": true,
    "editable": true
   },
   "outputs": [],
   "source": []
  },
  {
   "cell_type": "code",
   "execution_count": null,
   "metadata": {
    "collapsed": true,
    "deletable": true,
    "editable": true
   },
   "outputs": [],
   "source": []
  },
  {
   "cell_type": "code",
   "execution_count": null,
   "metadata": {
    "collapsed": false,
    "deletable": true,
    "editable": true
   },
   "outputs": [
    {
     "data": {
      "text/plain": [
       "59.45303210463734"
      ]
     },
     "execution_count": 128,
     "metadata": {},
     "output_type": "execute_result"
    }
   ],
   "source": [
    "# Result Lab08\n",
    "\n",
    "average_film_ratings"
   ]
  },
  {
   "cell_type": "code",
   "execution_count": null,
   "metadata": {
    "collapsed": false,
    "deletable": true,
    "editable": true
   },
   "outputs": [
    {
     "data": {
      "text/plain": [
       "106.04453870625663"
      ]
     },
     "execution_count": 129,
     "metadata": {},
     "output_type": "execute_result"
    }
   ],
   "source": [
    "average_user_ratings"
   ]
  },
  {
   "cell_type": "code",
   "execution_count": null,
   "metadata": {
    "collapsed": false,
    "deletable": true,
    "editable": true
   },
   "outputs": [
    {
     "data": {
      "text/plain": [
       "0.06304669364224531"
      ]
     },
     "execution_count": 130,
     "metadata": {},
     "output_type": "execute_result"
    }
   ],
   "source": [
    "completeness"
   ]
  },
  {
   "cell_type": "code",
   "execution_count": null,
   "metadata": {
    "collapsed": false,
    "deletable": true,
    "editable": true
   },
   "outputs": [
    {
     "ename": "KeyboardInterrupt",
     "evalue": "",
     "output_type": "error",
     "traceback": [
      "\u001b[0;31m\u001b[0m",
      "\u001b[0;31mKeyboardInterrupt\u001b[0mTraceback (most recent call last)",
      "\u001b[0;32m<ipython-input-131-bae6b09157fe>\u001b[0m in \u001b[0;36m<module>\u001b[0;34m()\u001b[0m\n\u001b[0;32m----> 1\u001b[0;31m \u001b[0mpearson_neighbours_list\u001b[0m \u001b[0;34m=\u001b[0m \u001b[0;34m[\u001b[0m\u001b[0mi\u001b[0m\u001b[0;34m[\u001b[0m\u001b[0;36m0\u001b[0m\u001b[0;34m]\u001b[0m \u001b[0;32mfor\u001b[0m \u001b[0mi\u001b[0m \u001b[0;32min\u001b[0m \u001b[0mpearson_neighbours\u001b[0m\u001b[0;34m.\u001b[0m\u001b[0mselect\u001b[0m\u001b[0;34m(\u001b[0m\u001b[0;34m'u_user_id'\u001b[0m\u001b[0;34m)\u001b[0m\u001b[0;34m.\u001b[0m\u001b[0mcollect\u001b[0m\u001b[0;34m(\u001b[0m\u001b[0;34m)\u001b[0m\u001b[0;34m]\u001b[0m\u001b[0;34m\u001b[0m\u001b[0m\n\u001b[0m",
      "\u001b[0;32m/usr/hdp/current/spark2-client/python/pyspark/sql/dataframe.pyc\u001b[0m in \u001b[0;36mcollect\u001b[0;34m(self)\u001b[0m\n\u001b[1;32m    389\u001b[0m         \"\"\"\n\u001b[1;32m    390\u001b[0m         \u001b[0;32mwith\u001b[0m \u001b[0mSCCallSiteSync\u001b[0m\u001b[0;34m(\u001b[0m\u001b[0mself\u001b[0m\u001b[0;34m.\u001b[0m\u001b[0m_sc\u001b[0m\u001b[0;34m)\u001b[0m \u001b[0;32mas\u001b[0m \u001b[0mcss\u001b[0m\u001b[0;34m:\u001b[0m\u001b[0;34m\u001b[0m\u001b[0m\n\u001b[0;32m--> 391\u001b[0;31m             \u001b[0mport\u001b[0m \u001b[0;34m=\u001b[0m \u001b[0mself\u001b[0m\u001b[0;34m.\u001b[0m\u001b[0m_jdf\u001b[0m\u001b[0;34m.\u001b[0m\u001b[0mcollectToPython\u001b[0m\u001b[0;34m(\u001b[0m\u001b[0;34m)\u001b[0m\u001b[0;34m\u001b[0m\u001b[0m\n\u001b[0m\u001b[1;32m    392\u001b[0m         \u001b[0;32mreturn\u001b[0m \u001b[0mlist\u001b[0m\u001b[0;34m(\u001b[0m\u001b[0m_load_from_socket\u001b[0m\u001b[0;34m(\u001b[0m\u001b[0mport\u001b[0m\u001b[0;34m,\u001b[0m \u001b[0mBatchedSerializer\u001b[0m\u001b[0;34m(\u001b[0m\u001b[0mPickleSerializer\u001b[0m\u001b[0;34m(\u001b[0m\u001b[0;34m)\u001b[0m\u001b[0;34m)\u001b[0m\u001b[0;34m)\u001b[0m\u001b[0;34m)\u001b[0m\u001b[0;34m\u001b[0m\u001b[0m\n\u001b[1;32m    393\u001b[0m \u001b[0;34m\u001b[0m\u001b[0m\n",
      "\u001b[0;32m/usr/local/lib/python2.7/dist-packages/py4j/java_gateway.pyc\u001b[0m in \u001b[0;36m__call__\u001b[0;34m(self, *args)\u001b[0m\n\u001b[1;32m   1129\u001b[0m             \u001b[0mproto\u001b[0m\u001b[0;34m.\u001b[0m\u001b[0mEND_COMMAND_PART\u001b[0m\u001b[0;34m\u001b[0m\u001b[0m\n\u001b[1;32m   1130\u001b[0m \u001b[0;34m\u001b[0m\u001b[0m\n\u001b[0;32m-> 1131\u001b[0;31m         \u001b[0manswer\u001b[0m \u001b[0;34m=\u001b[0m \u001b[0mself\u001b[0m\u001b[0;34m.\u001b[0m\u001b[0mgateway_client\u001b[0m\u001b[0;34m.\u001b[0m\u001b[0msend_command\u001b[0m\u001b[0;34m(\u001b[0m\u001b[0mcommand\u001b[0m\u001b[0;34m)\u001b[0m\u001b[0;34m\u001b[0m\u001b[0m\n\u001b[0m\u001b[1;32m   1132\u001b[0m         return_value = get_return_value(\n\u001b[1;32m   1133\u001b[0m             answer, self.gateway_client, self.target_id, self.name)\n",
      "\u001b[0;32m/usr/local/lib/python2.7/dist-packages/py4j/java_gateway.pyc\u001b[0m in \u001b[0;36msend_command\u001b[0;34m(self, command, retry, binary)\u001b[0m\n\u001b[1;32m    881\u001b[0m         \u001b[0mconnection\u001b[0m \u001b[0;34m=\u001b[0m \u001b[0mself\u001b[0m\u001b[0;34m.\u001b[0m\u001b[0m_get_connection\u001b[0m\u001b[0;34m(\u001b[0m\u001b[0;34m)\u001b[0m\u001b[0;34m\u001b[0m\u001b[0m\n\u001b[1;32m    882\u001b[0m         \u001b[0;32mtry\u001b[0m\u001b[0;34m:\u001b[0m\u001b[0;34m\u001b[0m\u001b[0m\n\u001b[0;32m--> 883\u001b[0;31m             \u001b[0mresponse\u001b[0m \u001b[0;34m=\u001b[0m \u001b[0mconnection\u001b[0m\u001b[0;34m.\u001b[0m\u001b[0msend_command\u001b[0m\u001b[0;34m(\u001b[0m\u001b[0mcommand\u001b[0m\u001b[0;34m)\u001b[0m\u001b[0;34m\u001b[0m\u001b[0m\n\u001b[0m\u001b[1;32m    884\u001b[0m             \u001b[0;32mif\u001b[0m \u001b[0mbinary\u001b[0m\u001b[0;34m:\u001b[0m\u001b[0;34m\u001b[0m\u001b[0m\n\u001b[1;32m    885\u001b[0m                 \u001b[0;32mreturn\u001b[0m \u001b[0mresponse\u001b[0m\u001b[0;34m,\u001b[0m \u001b[0mself\u001b[0m\u001b[0;34m.\u001b[0m\u001b[0m_create_connection_guard\u001b[0m\u001b[0;34m(\u001b[0m\u001b[0mconnection\u001b[0m\u001b[0;34m)\u001b[0m\u001b[0;34m\u001b[0m\u001b[0m\n",
      "\u001b[0;32m/usr/local/lib/python2.7/dist-packages/py4j/java_gateway.pyc\u001b[0m in \u001b[0;36msend_command\u001b[0;34m(self, command)\u001b[0m\n\u001b[1;32m   1026\u001b[0m \u001b[0;34m\u001b[0m\u001b[0m\n\u001b[1;32m   1027\u001b[0m         \u001b[0;32mtry\u001b[0m\u001b[0;34m:\u001b[0m\u001b[0;34m\u001b[0m\u001b[0m\n\u001b[0;32m-> 1028\u001b[0;31m             \u001b[0manswer\u001b[0m \u001b[0;34m=\u001b[0m \u001b[0msmart_decode\u001b[0m\u001b[0;34m(\u001b[0m\u001b[0mself\u001b[0m\u001b[0;34m.\u001b[0m\u001b[0mstream\u001b[0m\u001b[0;34m.\u001b[0m\u001b[0mreadline\u001b[0m\u001b[0;34m(\u001b[0m\u001b[0;34m)\u001b[0m\u001b[0;34m[\u001b[0m\u001b[0;34m:\u001b[0m\u001b[0;34m-\u001b[0m\u001b[0;36m1\u001b[0m\u001b[0;34m]\u001b[0m\u001b[0;34m)\u001b[0m\u001b[0;34m\u001b[0m\u001b[0m\n\u001b[0m\u001b[1;32m   1029\u001b[0m             \u001b[0mlogger\u001b[0m\u001b[0;34m.\u001b[0m\u001b[0mdebug\u001b[0m\u001b[0;34m(\u001b[0m\u001b[0;34m\"Answer received: {0}\"\u001b[0m\u001b[0;34m.\u001b[0m\u001b[0mformat\u001b[0m\u001b[0;34m(\u001b[0m\u001b[0manswer\u001b[0m\u001b[0;34m)\u001b[0m\u001b[0;34m)\u001b[0m\u001b[0;34m\u001b[0m\u001b[0m\n\u001b[1;32m   1030\u001b[0m             \u001b[0;32mif\u001b[0m \u001b[0manswer\u001b[0m\u001b[0;34m.\u001b[0m\u001b[0mstartswith\u001b[0m\u001b[0;34m(\u001b[0m\u001b[0mproto\u001b[0m\u001b[0;34m.\u001b[0m\u001b[0mRETURN_MESSAGE\u001b[0m\u001b[0;34m)\u001b[0m\u001b[0;34m:\u001b[0m\u001b[0;34m\u001b[0m\u001b[0m\n",
      "\u001b[0;32m/usr/lib/python2.7/socket.pyc\u001b[0m in \u001b[0;36mreadline\u001b[0;34m(self, size)\u001b[0m\n\u001b[1;32m    445\u001b[0m             \u001b[0;32mwhile\u001b[0m \u001b[0mTrue\u001b[0m\u001b[0;34m:\u001b[0m\u001b[0;34m\u001b[0m\u001b[0m\n\u001b[1;32m    446\u001b[0m                 \u001b[0;32mtry\u001b[0m\u001b[0;34m:\u001b[0m\u001b[0;34m\u001b[0m\u001b[0m\n\u001b[0;32m--> 447\u001b[0;31m                     \u001b[0mdata\u001b[0m \u001b[0;34m=\u001b[0m \u001b[0mself\u001b[0m\u001b[0;34m.\u001b[0m\u001b[0m_sock\u001b[0m\u001b[0;34m.\u001b[0m\u001b[0mrecv\u001b[0m\u001b[0;34m(\u001b[0m\u001b[0mself\u001b[0m\u001b[0;34m.\u001b[0m\u001b[0m_rbufsize\u001b[0m\u001b[0;34m)\u001b[0m\u001b[0;34m\u001b[0m\u001b[0m\n\u001b[0m\u001b[1;32m    448\u001b[0m                 \u001b[0;32mexcept\u001b[0m \u001b[0merror\u001b[0m\u001b[0;34m,\u001b[0m \u001b[0me\u001b[0m\u001b[0;34m:\u001b[0m\u001b[0;34m\u001b[0m\u001b[0m\n\u001b[1;32m    449\u001b[0m                     \u001b[0;32mif\u001b[0m \u001b[0me\u001b[0m\u001b[0;34m.\u001b[0m\u001b[0margs\u001b[0m\u001b[0;34m[\u001b[0m\u001b[0;36m0\u001b[0m\u001b[0;34m]\u001b[0m \u001b[0;34m==\u001b[0m \u001b[0mEINTR\u001b[0m\u001b[0;34m:\u001b[0m\u001b[0;34m\u001b[0m\u001b[0m\n",
      "\u001b[0;31mKeyboardInterrupt\u001b[0m: "
     ]
    }
   ],
   "source": [
    "pearson_neighbours_list = [i[0] for i in pearson_neighbours.select('u_user_id').collect()]"
   ]
  },
  {
   "cell_type": "code",
   "execution_count": null,
   "metadata": {
    "collapsed": false,
    "deletable": true,
    "editable": true
   },
   "outputs": [],
   "source": [
    "pearson_top10_list = [i[0] for i in pearson_top10.collect()]"
   ]
  },
  {
   "cell_type": "code",
   "execution_count": null,
   "metadata": {
    "collapsed": false,
    "deletable": true,
    "editable": true
   },
   "outputs": [],
   "source": [
    "import json\n",
    "open('../lab08.json', 'w').write(\n",
    "    json.dumps(\n",
    "        {\n",
    "            \"average_film_ratings\": '%.4f' % average_film_ratings,\n",
    "            \"average_user_ratings\": '%.4f' % average_user_ratings,\n",
    "            \"completeness\": '%.4f' % completeness,\n",
    "            \"pearson_neighbours\": pearson_neighbours_list,\n",
    "            \"pearson_top10\": pearson_top10_list\n",
    "         }\n",
    "    )\n",
    ")"
   ]
  },
  {
   "cell_type": "code",
   "execution_count": null,
   "metadata": {
    "collapsed": true,
    "deletable": true,
    "editable": true
   },
   "outputs": [],
   "source": []
  },
  {
   "cell_type": "code",
   "execution_count": 8,
   "metadata": {
    "collapsed": false,
    "deletable": true,
    "editable": true
   },
   "outputs": [],
   "source": [
    "# Lab08s\n",
    "\n",
    "# Part 3, 1\n",
    "average_rating = u_data.select(F.avg('rating')).first()[0]"
   ]
  },
  {
   "cell_type": "code",
   "execution_count": 10,
   "metadata": {
    "collapsed": false,
    "deletable": true,
    "editable": true
   },
   "outputs": [],
   "source": [
    "# Part 3, 2\n",
    "\n",
    "bu = u_data.withColumn('diff_r_mu', u_data.rating - average_rating) \\\n",
    "    .select('user_id', 'movie_id', 'diff_r_mu') \\\n",
    "    .groupBy('user_id') \\\n",
    "    .agg(F.count('movie_id').alias('count_movie_id'), F.sum('diff_r_mu').alias('sum_diff_r_mu')) \\\n",
    "    .withColumn('bu', (1 / (F.col('count_movie_id') + 10)) * F.col('sum_diff_r_mu')) \\\n",
    "    .select('user_id', 'bu').cache()"
   ]
  },
  {
   "cell_type": "code",
   "execution_count": 11,
   "metadata": {
    "collapsed": false,
    "deletable": true,
    "editable": true
   },
   "outputs": [],
   "source": [
    "# Part 3, 3\n",
    "\n",
    "bi = u_data.join(bu, on='user_id', how='inner') \\\n",
    "    .withColumn('diff_r_bu_mu', F.col('rating') - F.col('bu') - average_rating) \\\n",
    "    .select('movie_id', 'user_id', 'diff_r_bu_mu').groupBy('movie_id') \\\n",
    "    .agg(F.count('user_id').alias('count_user_id'), F.sum('diff_r_bu_mu').alias('sum_diff_r_bu_mu')) \\\n",
    "    .withColumn('bi', (1 / (F.col('count_user_id') + 25)) * F.col('sum_diff_r_bu_mu')) \\\n",
    "    .select('movie_id', 'bi').cache()"
   ]
  },
  {
   "cell_type": "code",
   "execution_count": 12,
   "metadata": {
    "collapsed": true,
    "deletable": true,
    "editable": true
   },
   "outputs": [],
   "source": [
    "# Part 3, 4\n",
    "\n",
    "cross_join = u_data.select('user_id').distinct().crossJoin(u_item.select('movie_id'))\n",
    "cross_join = cross_join.withColumn('um', F.concat(F.col('user_id'),F.lit('_'), F.col('movie_id')))"
   ]
  },
  {
   "cell_type": "code",
   "execution_count": 13,
   "metadata": {
    "collapsed": true,
    "deletable": true,
    "editable": true
   },
   "outputs": [],
   "source": [
    "u_data = u_data.withColumn('um', F.concat(F.col('user_id'),F.lit('_'), F.col('movie_id')))"
   ]
  },
  {
   "cell_type": "code",
   "execution_count": 14,
   "metadata": {
    "collapsed": false,
    "deletable": true,
    "editable": true
   },
   "outputs": [],
   "source": [
    "bui_r = cross_join.join(u_data, on='um', how='left') \\\n",
    "        .select(cross_join.um, cross_join.user_id, cross_join.movie_id, 'rating') \\\n",
    "        .join(bu, on='user_id', how='left').join(bi, on='movie_id', how='left') \\\n",
    "        .withColumn('bui', average_rating + F.col('bu') + F.col('bi')).cache()"
   ]
  },
  {
   "cell_type": "code",
   "execution_count": 15,
   "metadata": {
    "collapsed": false,
    "deletable": true,
    "editable": true
   },
   "outputs": [],
   "source": [
    "bui_r = bui_r.select('movie_id', 'user_id', 'rating', 'bui')"
   ]
  },
  {
   "cell_type": "code",
   "execution_count": 16,
   "metadata": {
    "collapsed": false,
    "deletable": true,
    "editable": true
   },
   "outputs": [],
   "source": [
    "# Part 4, 1\n",
    "\n",
    "clean_ratings = bui_r.withColumn('diff_r_bui', F.when(F.col('rating').isNull(), 0).otherwise(F.col('rating') - F.col('bui'))) \\\n",
    "                    .select('user_id', 'movie_id', 'diff_r_bui', 'bui')"
   ]
  },
  {
   "cell_type": "code",
   "execution_count": 17,
   "metadata": {
    "collapsed": false,
    "deletable": true,
    "editable": true
   },
   "outputs": [],
   "source": [
    "# Part 4, 2 \n",
    "\n",
    "dd3 = clean_ratings.select('user_id', 'movie_id', 'diff_r_bui').groupBy('movie_id') \\\n",
    "    .agg(F.collect_list('user_id').alias('user_id_list'), F.collect_list('diff_r_bui').alias('diff_r_bui_list')).cache()"
   ]
  },
  {
   "cell_type": "code",
   "execution_count": 18,
   "metadata": {
    "collapsed": true,
    "deletable": true,
    "editable": true
   },
   "outputs": [],
   "source": [
    "def _udf_toSparseVector(x1, x2):\n",
    "    dd = {}\n",
    "    ziped = zip(x1, x2)\n",
    "    for i in ziped:\n",
    "        if i[1]:\n",
    "            dd[i[0]-1] = i[1]\n",
    "    return linalg.SparseVector(len(ziped), dd)"
   ]
  },
  {
   "cell_type": "code",
   "execution_count": 19,
   "metadata": {
    "collapsed": false,
    "deletable": true,
    "editable": true
   },
   "outputs": [],
   "source": [
    "udf_toSparseVector = F.udf(_udf_toSparseVector, linalg.VectorUDT())"
   ]
  },
  {
   "cell_type": "code",
   "execution_count": 20,
   "metadata": {
    "collapsed": false,
    "deletable": true,
    "editable": true
   },
   "outputs": [],
   "source": [
    "dd4 = dd3.select('movie_id', udf_toSparseVector('user_id_list', 'diff_r_bui_list').alias('sparse_vector'))"
   ]
  },
  {
   "cell_type": "code",
   "execution_count": 21,
   "metadata": {
    "collapsed": false
   },
   "outputs": [],
   "source": [
    "# CrossJoin как ты мне попил крови :<<<<<\n",
    "\n",
    "all_vectors_bc = sc.broadcast(dd4.collect())"
   ]
  },
  {
   "cell_type": "code",
   "execution_count": 22,
   "metadata": {
    "collapsed": true
   },
   "outputs": [],
   "source": [
    "def _udf_cos_sim(v1):\n",
    "    dd = {}\n",
    "    norm_v1 = v1.norm(2)\n",
    "    bc_len = len(all_vectors_bc.value)\n",
    "    for i in xrange(bc_len):\n",
    "        r = all_vectors_bc.value[i]\n",
    "        dd[r.movie_id] = float(v1.dot(r.sparse_vector)/norm_v1/r.sparse_vector.norm(2))\n",
    "    return dd"
   ]
  },
  {
   "cell_type": "code",
   "execution_count": 23,
   "metadata": {
    "collapsed": true
   },
   "outputs": [],
   "source": [
    "udf_cos_sim = F.udf(_udf_cos_sim, MapType(IntegerType(), FloatType())) "
   ]
  },
  {
   "cell_type": "code",
   "execution_count": 24,
   "metadata": {
    "collapsed": false
   },
   "outputs": [],
   "source": [
    "cosSim_data = dd4.withColumn('cosSim', udf_cos_sim('sparse_vector')).select('movie_id', 'cosSim')"
   ]
  },
  {
   "cell_type": "code",
   "execution_count": 25,
   "metadata": {
    "collapsed": true
   },
   "outputs": [],
   "source": [
    "\n",
    "no_movie_my_user_rating = u_item.select('movie_id').subtract(u_data.where(u_data.user_id == my_user_id) \\\n",
    "                            .select('movie_id')).collect()"
   ]
  },
  {
   "cell_type": "code",
   "execution_count": 26,
   "metadata": {
    "collapsed": true
   },
   "outputs": [],
   "source": [
    "no_movie_my_user_rating_list = [i[0] for i in no_movie_my_user_rating]"
   ]
  },
  {
   "cell_type": "code",
   "execution_count": 96,
   "metadata": {
    "collapsed": true
   },
   "outputs": [],
   "source": [
    "# Part 4, 3a\n",
    "# Берем косинусы по фильмам, который пользователь не оценивал\n",
    "my_user_cosSim_with_no_rating = cosSim_data.where(cosSim_data.movie_id.isin(no_movie_my_user_rating_list))"
   ]
  },
  {
   "cell_type": "code",
   "execution_count": 29,
   "metadata": {
    "collapsed": true
   },
   "outputs": [],
   "source": [
    "schema = ArrayType(StructType([\n",
    "    StructField(\"movie_id\", IntegerType(), False),\n",
    "    StructField(\"cosSim\", FloatType(), False)\n",
    "]))"
   ]
  },
  {
   "cell_type": "code",
   "execution_count": 69,
   "metadata": {
    "collapsed": true
   },
   "outputs": [],
   "source": [
    "def _udf_top30(cos_sim):\n",
    "    return sorted(cos_sim.items(), key=lambda x: x[1], reverse=True)[1:31]"
   ]
  },
  {
   "cell_type": "code",
   "execution_count": 70,
   "metadata": {
    "collapsed": false
   },
   "outputs": [],
   "source": [
    "udf_top30 = F.udf(_udf_top30, schema)"
   ]
  },
  {
   "cell_type": "code",
   "execution_count": 107,
   "metadata": {
    "collapsed": false
   },
   "outputs": [],
   "source": [
    "my_user_top30_cosSim_with_no_rating = my_user_cosSim_with_no_rating.withColumn('top30', udf_top30('cosSim'))"
   ]
  },
  {
   "cell_type": "code",
   "execution_count": 108,
   "metadata": {
    "collapsed": true
   },
   "outputs": [],
   "source": [
    "# Part 4, 3b\n",
    "udf_get_movie_id = F.udf(lambda x: x.movie_id, IntegerType())\n",
    "udf_get_cosSim = F.udf(lambda x: x.cosSim, FloatType())"
   ]
  },
  {
   "cell_type": "code",
   "execution_count": 109,
   "metadata": {
    "collapsed": false
   },
   "outputs": [],
   "source": [
    "# Кризис названия переменных :( Раздербаним косинусы соседей\n",
    "dd5 = my_user_top30_cosSim_with_no_rating.select('movie_id', F.explode('top30').alias('cosSim'))"
   ]
  },
  {
   "cell_type": "code",
   "execution_count": 110,
   "metadata": {
    "collapsed": false
   },
   "outputs": [],
   "source": [
    "dd6 = dd5.select('movie_id', udf_get_movie_id('cosSim').alias('n_movie_id'), udf_get_cosSim('cosSim').alias('cosSim'))"
   ]
  },
  {
   "cell_type": "code",
   "execution_count": 137,
   "metadata": {
    "collapsed": false
   },
   "outputs": [
    {
     "name": "stdout",
     "output_type": "stream",
     "text": [
      "+--------+----------+------+\n",
      "|movie_id|n_movie_id|cosSim|\n",
      "+--------+----------+------+\n",
      "+--------+----------+------+\n",
      "\n"
     ]
    }
   ],
   "source": [
    "# Нет смысла делать 5 пункт\n",
    "dd6.orderBy('movie_id', 'n_movie_id').where('cosSim < 0').show(5)"
   ]
  },
  {
   "cell_type": "code",
   "execution_count": 112,
   "metadata": {
    "collapsed": false
   },
   "outputs": [],
   "source": [
    "dd7 = dd6.join(clean_ratings.select(F.col('movie_id').alias('n_movie_id'), 'diff_r_bui') \\\n",
    "    .where((clean_ratings.user_id == my_user_id) & (~clean_ratings.movie_id.isin(no_movie_my_user_rating_list)))\\\n",
    "        , on='n_movie_id')"
   ]
  },
  {
   "cell_type": "code",
   "execution_count": 116,
   "metadata": {
    "collapsed": false
   },
   "outputs": [],
   "source": [
    "dd8 = dd7.select('movie_id', 'cosSim', (dd7.cosSim*dd7.diff_r_bui).alias('mult_cosSim_diff_r_bui'))\\\n",
    "    .groupBy('movie_id') \\\n",
    "    .agg(F.sum(F.abs(F.col('cosSim'))).alias('denominator')\\\n",
    "         , F.sum(F.col('mult_cosSim_diff_r_bui')).alias('numerator'))"
   ]
  },
  {
   "cell_type": "code",
   "execution_count": 122,
   "metadata": {
    "collapsed": false
   },
   "outputs": [],
   "source": [
    "dd9 = dd8.join(clean_ratings.select('movie_id', 'bui') \\\n",
    "    .where((clean_ratings.user_id == my_user_id) & (clean_ratings.movie_id.isin(no_movie_my_user_rating_list)))\\\n",
    "    .orderBy('movie_id'), on='movie_id').cache()"
   ]
  },
  {
   "cell_type": "code",
   "execution_count": 123,
   "metadata": {
    "collapsed": false
   },
   "outputs": [
    {
     "data": {
      "text/plain": [
       "947"
      ]
     },
     "execution_count": 123,
     "metadata": {},
     "output_type": "execute_result"
    }
   ],
   "source": [
    "# Закэшируем\n",
    "dd9.count()"
   ]
  },
  {
   "cell_type": "code",
   "execution_count": 127,
   "metadata": {
    "collapsed": false
   },
   "outputs": [],
   "source": [
    "# Ну наконец-то!\n",
    "rui = dd9.select('movie_id', (dd9.bui + dd9.numerator / dd9.denominator).alias('rui'))"
   ]
  },
  {
   "cell_type": "code",
   "execution_count": 130,
   "metadata": {
    "collapsed": false
   },
   "outputs": [],
   "source": [
    "# Part 4, 4&5 потому что отрицательных косинусов нет\n",
    "predicators_top10 = rui.orderBy(rui.rui.desc()).limit(10)"
   ]
  },
  {
   "cell_type": "code",
   "execution_count": 134,
   "metadata": {
    "collapsed": false
   },
   "outputs": [],
   "source": [
    "predicators_top10_list = [i[0] for i in predicators_top10.select('movie_id').collect()]"
   ]
  },
  {
   "cell_type": "code",
   "execution_count": 135,
   "metadata": {
    "collapsed": false
   },
   "outputs": [
    {
     "data": {
      "text/plain": [
       "[512, 489, 1611, 945, 1123, 48, 514, 937, 64, 1278]"
      ]
     },
     "execution_count": 135,
     "metadata": {},
     "output_type": "execute_result"
    }
   ],
   "source": [
    "predicators_top10_list"
   ]
  },
  {
   "cell_type": "code",
   "execution_count": null,
   "metadata": {
    "collapsed": true
   },
   "outputs": [],
   "source": []
  },
  {
   "cell_type": "code",
   "execution_count": 136,
   "metadata": {
    "collapsed": true
   },
   "outputs": [],
   "source": [
    "import json\n",
    "open('../lab08s.json', 'w').write(\n",
    "    json.dumps(\n",
    "        {\n",
    "            \"average_rating\": '%.4f' % average_rating,\n",
    "            \"predicators_top10\": predicators_top10_list,\n",
    "            \"predicators_positive_top10\": predicators_top10_list\n",
    "         }\n",
    "    )\n",
    ")"
   ]
  },
  {
   "cell_type": "code",
   "execution_count": null,
   "metadata": {
    "collapsed": true
   },
   "outputs": [],
   "source": []
  }
 ],
 "metadata": {
  "kernelspec": {
   "display_name": "Python 2",
   "language": "python",
   "name": "python2"
  },
  "language_info": {
   "codemirror_mode": {
    "name": "ipython",
    "version": 2
   },
   "file_extension": ".py",
   "mimetype": "text/x-python",
   "name": "python",
   "nbconvert_exporter": "python",
   "pygments_lexer": "ipython2",
   "version": "2.7.6"
  }
 },
 "nbformat": 4,
 "nbformat_minor": 2
}
