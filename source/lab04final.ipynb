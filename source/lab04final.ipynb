{
 "cells": [
  {
   "cell_type": "code",
   "execution_count": 1,
   "metadata": {
    "collapsed": false,
    "deletable": true,
    "editable": true
   },
   "outputs": [
    {
     "name": "stderr",
     "output_type": "stream",
     "text": [
      "/usr/local/lib/python2.7/dist-packages/sklearn/cross_validation.py:44: DeprecationWarning: This module was deprecated in version 0.18 in favor of the model_selection module into which all the refactored classes and functions are moved. Also note that the interface of the new CV iterators are different from that of this module. This module will be removed in 0.20.\n",
      "  \"This module will be removed in 0.20.\", DeprecationWarning)\n",
      "/usr/local/lib/python2.7/dist-packages/IPython/html.py:14: ShimWarning: The `IPython.html` package has been deprecated since IPython 4.0. You should import from `notebook` instead. `IPython.html.widgets` has moved to `ipywidgets`.\n",
      "  \"`IPython.html.widgets` has moved to `ipywidgets`.\", ShimWarning)\n"
     ]
    }
   ],
   "source": [
    "%matplotlib inline\n",
    "import pandas as pd\n",
    "import numpy as np\n",
    "import pickle\n",
    "from sklearn.ensemble import RandomForestClassifier\n",
    "from sklearn.cross_validation import train_test_split\n",
    "from sklearn.metrics import roc_curve, precision_recall_curve, roc_auc_score\n",
    "import seaborn\n",
    "from matplotlib import pyplot as plt"
   ]
  },
  {
   "cell_type": "code",
   "execution_count": 2,
   "metadata": {
    "collapsed": true,
    "deletable": true,
    "editable": true
   },
   "outputs": [],
   "source": [
    "df_train = pd.read_csv('/data/home/alexey.astafiev/lab04/laba04_train.csv')\n",
    "df_test = pd.read_csv('/data/home/alexey.astafiev/lab04/laba04_test.csv')"
   ]
  },
  {
   "cell_type": "code",
   "execution_count": 3,
   "metadata": {
    "collapsed": true,
    "deletable": true,
    "editable": true
   },
   "outputs": [],
   "source": [
    "y_target = df_train['TARGET']"
   ]
  },
  {
   "cell_type": "code",
   "execution_count": 4,
   "metadata": {
    "collapsed": false,
    "deletable": true,
    "editable": true
   },
   "outputs": [],
   "source": [
    "cols = df_train.columns.values.tolist()"
   ]
  },
  {
   "cell_type": "code",
   "execution_count": 5,
   "metadata": {
    "collapsed": false,
    "deletable": true,
    "editable": true
   },
   "outputs": [],
   "source": [
    "del cols[0]"
   ]
  },
  {
   "cell_type": "code",
   "execution_count": 6,
   "metadata": {
    "collapsed": false,
    "deletable": true,
    "editable": true
   },
   "outputs": [],
   "source": [
    "del cols[len(cols)-1]\n"
   ]
  },
  {
   "cell_type": "code",
   "execution_count": 7,
   "metadata": {
    "collapsed": false,
    "deletable": true,
    "editable": true
   },
   "outputs": [],
   "source": [
    "trainX = df_train[cols]\n",
    "testX = df_test[cols]"
   ]
  },
  {
   "cell_type": "code",
   "execution_count": 8,
   "metadata": {
    "collapsed": false,
    "deletable": true,
    "editable": true
   },
   "outputs": [],
   "source": [
    "fix_trainX = trainX.drop(['CNT_ACCEPTS_MTP', 'CNT_ACCEPTS_TK', 'PRC_ACCEPTS_A_AMOBILE', 'PRC_ACCEPTS_A_ATM', 'PRC_ACCEPTS_A_EMAIL_LINK', 'PRC_ACCEPTS_A_MTP', 'PRC_ACCEPTS_A_POS', 'PRC_ACCEPTS_A_TK', 'PRC_ACCEPTS_MTP', 'PRC_ACCEPTS_TK'], axis=1)\n",
    "fix_testX = testX.drop(['CNT_ACCEPTS_MTP', 'CNT_ACCEPTS_TK', 'PRC_ACCEPTS_A_AMOBILE', 'PRC_ACCEPTS_A_ATM', 'PRC_ACCEPTS_A_EMAIL_LINK', 'PRC_ACCEPTS_A_MTP', 'PRC_ACCEPTS_A_POS', 'PRC_ACCEPTS_A_TK', 'PRC_ACCEPTS_MTP', 'PRC_ACCEPTS_TK'], axis=1)\n",
    "fix_trainX = fix_trainX.drop(['CLNT_JOB_POSITION'], axis=1)\n",
    "fix_testX = fix_testX.drop(['CLNT_JOB_POSITION'], axis=1)\n",
    "fix_trainX[['CLNT_JOB_POSITION_TYPE', 'APP_POSITION_TYPE']] = fix_trainX[['CLNT_JOB_POSITION_TYPE', 'APP_POSITION_TYPE']].fillna('none')\n",
    "fix_testX[['CLNT_JOB_POSITION_TYPE', 'APP_POSITION_TYPE']] = fix_testX[['CLNT_JOB_POSITION_TYPE', 'APP_POSITION_TYPE']].fillna('none')"
   ]
  },
  {
   "cell_type": "code",
   "execution_count": 9,
   "metadata": {
    "collapsed": true,
    "deletable": true,
    "editable": true
   },
   "outputs": [],
   "source": [
    "def union_cols(x):\n",
    "    if x[0] == 'none':\n",
    "        if x[1] == 'none':\n",
    "            return 'none'\n",
    "        else:\n",
    "            return x[1]\n",
    "    elif x[0] == x[1]:\n",
    "        return x[0]\n",
    "    else:\n",
    "        return x[0]\n",
    "        "
   ]
  },
  {
   "cell_type": "code",
   "execution_count": 10,
   "metadata": {
    "collapsed": true,
    "deletable": true,
    "editable": true
   },
   "outputs": [],
   "source": [
    "fix_trainX['CLNT_JOB_TYPE'] = fix_trainX[['CLNT_JOB_POSITION_TYPE', 'APP_POSITION_TYPE']].apply(union_cols, axis=1)\n",
    "fix_testX['CLNT_JOB_TYPE'] = fix_testX[['CLNT_JOB_POSITION_TYPE', 'APP_POSITION_TYPE']].apply(union_cols, axis=1)"
   ]
  },
  {
   "cell_type": "code",
   "execution_count": 15,
   "metadata": {
    "collapsed": false,
    "deletable": true,
    "editable": true
   },
   "outputs": [],
   "source": [
    "fix_trainX = fix_trainX.drop(['CLNT_JOB_POSITION_TYPE', 'APP_POSITION_TYPE'], axis=1)\n",
    "fix_testX = fix_testX.drop(['CLNT_JOB_POSITION_TYPE', 'APP_POSITION_TYPE'], axis=1)"
   ]
  },
  {
   "cell_type": "code",
   "execution_count": 16,
   "metadata": {
    "collapsed": true,
    "deletable": true,
    "editable": true
   },
   "outputs": [],
   "source": [
    "fix_trainX['CLNT_TRUST_RELATION'] = fix_trainX[['CLNT_TRUST_RELATION']].fillna('none')\n",
    "fix_testX['CLNT_TRUST_RELATION'] = fix_testX[['CLNT_TRUST_RELATION']].fillna('none')"
   ]
  },
  {
   "cell_type": "code",
   "execution_count": 17,
   "metadata": {
    "collapsed": true,
    "deletable": true,
    "editable": true
   },
   "outputs": [],
   "source": [
    "def f1(x):\n",
    "#     if x[0] == 'none':\n",
    "#         return 'OTHER'\n",
    "#     elif unicode(x[0]) == u'Мать':\n",
    "    if x[0].decode('utf-8') == u'Мать':\n",
    "        return 'MOTHER'\n",
    "    elif x[0].decode('utf-8') == u'Друг':\n",
    "        return 'FRIEND'\n",
    "    elif x[0].decode('utf-8') == u'Отец':\n",
    "        return 'FATHER'\n",
    "    elif x[0].decode('utf-8') == u'Брат':\n",
    "        return 'BROTHER'\n",
    "    elif x[0].decode('utf-8') == u'Близкий ро':\n",
    "        return 'RELATIVE'\n",
    "    elif x[0].decode('utf-8') == u'Сестра':\n",
    "        return 'SISTER'\n",
    "    elif x[0].decode('utf-8') == u'Дальний ро':\n",
    "        return 'RELATIVE'\n",
    "    elif x[0].decode('utf-8') == u'Сын':\n",
    "        return 'SON'\n",
    "    elif x[0].decode('utf-8') == u'Дочь':\n",
    "        return 'DAUGHTER'\n",
    "    elif x[0].decode('utf-8') == u'Жена':\n",
    "        return 'WIFE'\n",
    "    elif x[0].decode('utf-8') == u'Муж':\n",
    "        return 'HUSBAND'\n",
    "    elif x[0].decode('utf-8') == u'мать':\n",
    "        return 'MOTHER'\n",
    "    elif x[0].decode('utf-8') == u'мама':\n",
    "        return 'MOTHER'\n",
    "    else:\n",
    "        return x[0]\n"
   ]
  },
  {
   "cell_type": "code",
   "execution_count": 18,
   "metadata": {
    "collapsed": false,
    "deletable": true,
    "editable": true
   },
   "outputs": [],
   "source": [
    "fix_trainX['CLNT_TRUST_RELATION1'] = fix_trainX[['CLNT_TRUST_RELATION']].apply(f1, axis=1)\n",
    "fix_testX['CLNT_TRUST_RELATION1'] = fix_testX[['CLNT_TRUST_RELATION']].apply(f1, axis=1)\n",
    "fix_trainX = fix_trainX.drop(['CLNT_TRUST_RELATION'], axis=1)\n",
    "fix_testX = fix_testX.drop(['CLNT_TRUST_RELATION'], axis=1)"
   ]
  },
  {
   "cell_type": "code",
   "execution_count": 19,
   "metadata": {
    "collapsed": true,
    "deletable": true,
    "editable": true
   },
   "outputs": [],
   "source": [
    "# pickle.dump(fix_trainX, open('/data/home/alexey.astafiev/lab04/fix_trainX.pcl', 'w'))"
   ]
  },
  {
   "cell_type": "code",
   "execution_count": 20,
   "metadata": {
    "collapsed": false,
    "deletable": true,
    "editable": true
   },
   "outputs": [],
   "source": [
    "for i in fix_trainX.columns.values:\n",
    "    if fix_trainX[i].dtype == 'object':\n",
    "        fix_trainX[i] = fix_trainX[i].fillna('none')\n",
    "\n",
    "for i in fix_testX.columns.values:\n",
    "    if fix_testX[i].dtype == 'object':\n",
    "        fix_testX[i] = fix_testX[i].fillna('none')"
   ]
  },
  {
   "cell_type": "code",
   "execution_count": 21,
   "metadata": {
    "collapsed": true,
    "deletable": true,
    "editable": true
   },
   "outputs": [],
   "source": [
    "def f2(x):\n",
    "    if x[0] == 'v':\n",
    "        return 'V'\n",
    "    elif x[0] == 'm':\n",
    "        return 'M'\n",
    "    elif x[0] == 't':\n",
    "        return 'T'\n",
    "    elif x[0] == 'd':\n",
    "        return 'D'\n",
    "    elif x[0] == 'w':\n",
    "        return 'W'\n",
    "    else:\n",
    "        return x[0]\n",
    "\n"
   ]
  },
  {
   "cell_type": "code",
   "execution_count": 22,
   "metadata": {
    "collapsed": true,
    "deletable": true,
    "editable": true
   },
   "outputs": [],
   "source": [
    "fix_trainX['APP_MARITAL_STATUS'] = fix_trainX[['APP_MARITAL_STATUS']].apply(f2, axis=1)\n",
    "fix_testX['APP_MARITAL_STATUS'] = fix_testX[['APP_MARITAL_STATUS']].apply(f2, axis=1)"
   ]
  },
  {
   "cell_type": "code",
   "execution_count": 23,
   "metadata": {
    "collapsed": false,
    "deletable": true,
    "editable": true
   },
   "outputs": [],
   "source": [
    "for i in fix_trainX.columns.values:\n",
    "    if fix_trainX[i].dtype == 'int64':\n",
    "        fix_trainX[i] = fix_trainX[i].fillna(0)\n",
    "    elif fix_trainX[i].dtype == 'float64':\n",
    "        fix_trainX[i] = fix_trainX[i].fillna(0.0)\n",
    "\n",
    "for i in fix_testX.columns.values:\n",
    "    if fix_testX[i].dtype == 'int64':\n",
    "        fix_testX[i] = fix_testX[i].fillna(0)\n",
    "    elif fix_testX[i].dtype == 'float64':\n",
    "        fix_testX[i] = fix_testX[i].fillna(0.0)"
   ]
  },
  {
   "cell_type": "code",
   "execution_count": 25,
   "metadata": {
    "collapsed": true
   },
   "outputs": [],
   "source": [
    "uids_train = fix_trainX['ID']\n",
    "uids_test = fix_testX['ID']"
   ]
  },
  {
   "cell_type": "code",
   "execution_count": 26,
   "metadata": {
    "collapsed": true
   },
   "outputs": [],
   "source": [
    "all_data = pd.concat([fix_trainX, fix_testX], ignore_index=True)"
   ]
  },
  {
   "cell_type": "code",
   "execution_count": 27,
   "metadata": {
    "collapsed": false,
    "deletable": true,
    "editable": true
   },
   "outputs": [],
   "source": [
    "categ_cols = []\n",
    "for i in fix_trainX.columns.values:\n",
    "    if fix_trainX[i].dtype == 'object':\n",
    "        categ_cols.append(i)"
   ]
  },
  {
   "cell_type": "code",
   "execution_count": 28,
   "metadata": {
    "collapsed": false,
    "deletable": true,
    "editable": true
   },
   "outputs": [
    {
     "name": "stdout",
     "output_type": "stream",
     "text": [
      "['APP_MARITAL_STATUS', 'APP_KIND_OF_PROP_HABITATION', 'APP_DRIVING_LICENSE', 'APP_EDUCATION', 'APP_TRAVEL_PASS', 'APP_CAR', 'APP_EMP_TYPE', 'APP_COMP_TYPE', 'PACK', 'CLNT_JOB_TYPE', 'CLNT_TRUST_RELATION1']\n"
     ]
    }
   ],
   "source": [
    "print categ_cols"
   ]
  },
  {
   "cell_type": "code",
   "execution_count": 29,
   "metadata": {
    "collapsed": true,
    "deletable": true,
    "editable": true
   },
   "outputs": [],
   "source": [
    "X = pd.get_dummies(all_data, columns=categ_cols)"
   ]
  },
  {
   "cell_type": "code",
   "execution_count": 30,
   "metadata": {
    "collapsed": false
   },
   "outputs": [],
   "source": [
    "X_train = X[X['ID'].isin(uids_train.values.tolist())]\n",
    "X_train = X_train.drop(['ID'], axis=1)"
   ]
  },
  {
   "cell_type": "code",
   "execution_count": 31,
   "metadata": {
    "collapsed": true
   },
   "outputs": [],
   "source": [
    "X_test = X[X['ID'].isin(uids_test.values.tolist())]\n",
    "X_test = X_test.drop(['ID'], axis=1)"
   ]
  },
  {
   "cell_type": "code",
   "execution_count": 32,
   "metadata": {
    "collapsed": true
   },
   "outputs": [],
   "source": [
    "y_test = X_test.index.values"
   ]
  },
  {
   "cell_type": "code",
   "execution_count": 33,
   "metadata": {
    "collapsed": true,
    "deletable": true,
    "editable": true
   },
   "outputs": [],
   "source": [
    "model = RandomForestClassifier(n_estimators=100, n_jobs=-1, oob_score = True)"
   ]
  },
  {
   "cell_type": "code",
   "execution_count": 34,
   "metadata": {
    "collapsed": false
   },
   "outputs": [
    {
     "data": {
      "text/plain": [
       "RandomForestClassifier(bootstrap=True, class_weight=None, criterion='gini',\n",
       "            max_depth=None, max_features='auto', max_leaf_nodes=None,\n",
       "            min_impurity_split=1e-07, min_samples_leaf=1,\n",
       "            min_samples_split=2, min_weight_fraction_leaf=0.0,\n",
       "            n_estimators=100, n_jobs=-1, oob_score=True, random_state=None,\n",
       "            verbose=0, warm_start=False)"
      ]
     },
     "execution_count": 34,
     "metadata": {},
     "output_type": "execute_result"
    }
   ],
   "source": [
    "model.fit(X_train, y_target)"
   ]
  },
  {
   "cell_type": "code",
   "execution_count": 36,
   "metadata": {
    "collapsed": false,
    "deletable": true,
    "editable": true
   },
   "outputs": [],
   "source": [
    "predictions = model.predict_proba(X_test)"
   ]
  },
  {
   "cell_type": "code",
   "execution_count": 41,
   "metadata": {
    "collapsed": false
   },
   "outputs": [],
   "source": [
    "with open('/data/home/alexey.astafiev/lab04.csv', 'w') as fout:\n",
    "    fout.write(\"id\\ttarget\\n\")\n",
    "    for uid, pred in zip(y_test, predictions[:, 1]):\n",
    "        fout.write(\"%s\\t%s\\n\" % (uid, pred))"
   ]
  }
 ],
 "metadata": {
  "kernelspec": {
   "display_name": "Python 2",
   "language": "python",
   "name": "python2"
  },
  "language_info": {
   "codemirror_mode": {
    "name": "ipython",
    "version": 2
   },
   "file_extension": ".py",
   "mimetype": "text/x-python",
   "name": "python",
   "nbconvert_exporter": "python",
   "pygments_lexer": "ipython2",
   "version": "2.7.6"
  }
 },
 "nbformat": 4,
 "nbformat_minor": 2
}
